{
 "cells": [
  {
   "cell_type": "markdown",
   "metadata": {},
   "source": [
    "### All Techniques Of Hyper Parameter Optimization\n",
    "\n",
    "1. GridSearchCV\n",
    "2. RandomizedSearchCV\n",
    "3. Bayesian Optimization -Automate Hyperparameter Tuning (Hyperopt)\n",
    "4. Sequential Model Based Optimization(Tuning a scikit-learn estimator with skopt)\n",
    "4. Optuna- Automate Hyperparameter Tuning\n",
    "5. Genetic Algorithms (TPOT Classifier)\n",
    "\n",
    "###### References\n",
    "- https://github.com/fmfn/BayesianOptimization\n",
    "- https://github.com/hyperopt/hyperopt\n",
    "- https://www.jeremyjordan.me/hyperparameter-tuning/\n",
    "- https://optuna.org/\n",
    "- https://towardsdatascience.com/hyperparameters-optimization-526348bb8e2d(By Pier Paolo Ippolito )\n",
    "- https://scikit-optimize.github.io/stable/auto_examples/hyperparameter-optimization.html\n"
   ]
  },
  {
   "cell_type": "code",
   "execution_count": 1,
   "metadata": {},
   "outputs": [],
   "source": [
    "import warnings\n",
    "warnings.filterwarnings('ignore')"
   ]
  },
  {
   "cell_type": "code",
   "execution_count": 7,
   "metadata": {},
   "outputs": [
    {
     "data": {
      "text/html": [
       "<div>\n",
       "<style scoped>\n",
       "    .dataframe tbody tr th:only-of-type {\n",
       "        vertical-align: middle;\n",
       "    }\n",
       "\n",
       "    .dataframe tbody tr th {\n",
       "        vertical-align: top;\n",
       "    }\n",
       "\n",
       "    .dataframe thead th {\n",
       "        text-align: right;\n",
       "    }\n",
       "</style>\n",
       "<table border=\"1\" class=\"dataframe\">\n",
       "  <thead>\n",
       "    <tr style=\"text-align: right;\">\n",
       "      <th></th>\n",
       "      <th>Pregnancies</th>\n",
       "      <th>Glucose</th>\n",
       "      <th>BloodPressure</th>\n",
       "      <th>SkinThickness</th>\n",
       "      <th>Insulin</th>\n",
       "      <th>BMI</th>\n",
       "      <th>DiabetesPedigreeFunction</th>\n",
       "      <th>Age</th>\n",
       "      <th>Outcome</th>\n",
       "    </tr>\n",
       "  </thead>\n",
       "  <tbody>\n",
       "    <tr>\n",
       "      <th>0</th>\n",
       "      <td>6</td>\n",
       "      <td>148</td>\n",
       "      <td>72</td>\n",
       "      <td>35</td>\n",
       "      <td>0</td>\n",
       "      <td>33.6</td>\n",
       "      <td>0.627</td>\n",
       "      <td>50</td>\n",
       "      <td>1</td>\n",
       "    </tr>\n",
       "    <tr>\n",
       "      <th>1</th>\n",
       "      <td>1</td>\n",
       "      <td>85</td>\n",
       "      <td>66</td>\n",
       "      <td>29</td>\n",
       "      <td>0</td>\n",
       "      <td>26.6</td>\n",
       "      <td>0.351</td>\n",
       "      <td>31</td>\n",
       "      <td>0</td>\n",
       "    </tr>\n",
       "    <tr>\n",
       "      <th>2</th>\n",
       "      <td>8</td>\n",
       "      <td>183</td>\n",
       "      <td>64</td>\n",
       "      <td>0</td>\n",
       "      <td>0</td>\n",
       "      <td>23.3</td>\n",
       "      <td>0.672</td>\n",
       "      <td>32</td>\n",
       "      <td>1</td>\n",
       "    </tr>\n",
       "    <tr>\n",
       "      <th>3</th>\n",
       "      <td>1</td>\n",
       "      <td>89</td>\n",
       "      <td>66</td>\n",
       "      <td>23</td>\n",
       "      <td>94</td>\n",
       "      <td>28.1</td>\n",
       "      <td>0.167</td>\n",
       "      <td>21</td>\n",
       "      <td>0</td>\n",
       "    </tr>\n",
       "    <tr>\n",
       "      <th>4</th>\n",
       "      <td>0</td>\n",
       "      <td>137</td>\n",
       "      <td>40</td>\n",
       "      <td>35</td>\n",
       "      <td>168</td>\n",
       "      <td>43.1</td>\n",
       "      <td>2.288</td>\n",
       "      <td>33</td>\n",
       "      <td>1</td>\n",
       "    </tr>\n",
       "  </tbody>\n",
       "</table>\n",
       "</div>"
      ],
      "text/plain": [
       "   Pregnancies  Glucose  BloodPressure  SkinThickness  Insulin   BMI  \\\n",
       "0            6      148             72             35        0  33.6   \n",
       "1            1       85             66             29        0  26.6   \n",
       "2            8      183             64              0        0  23.3   \n",
       "3            1       89             66             23       94  28.1   \n",
       "4            0      137             40             35      168  43.1   \n",
       "\n",
       "   DiabetesPedigreeFunction  Age  Outcome  \n",
       "0                     0.627   50        1  \n",
       "1                     0.351   31        0  \n",
       "2                     0.672   32        1  \n",
       "3                     0.167   21        0  \n",
       "4                     2.288   33        1  "
      ]
     },
     "execution_count": 7,
     "metadata": {},
     "output_type": "execute_result"
    }
   ],
   "source": [
    "import pandas as pd\n",
    "df=pd.read_csv('diabetes.csv')\n",
    "df.head()"
   ]
  },
  {
   "cell_type": "code",
   "execution_count": 8,
   "metadata": {},
   "outputs": [
    {
     "data": {
      "text/html": [
       "<div>\n",
       "<style scoped>\n",
       "    .dataframe tbody tr th:only-of-type {\n",
       "        vertical-align: middle;\n",
       "    }\n",
       "\n",
       "    .dataframe tbody tr th {\n",
       "        vertical-align: top;\n",
       "    }\n",
       "\n",
       "    .dataframe thead th {\n",
       "        text-align: right;\n",
       "    }\n",
       "</style>\n",
       "<table border=\"1\" class=\"dataframe\">\n",
       "  <thead>\n",
       "    <tr style=\"text-align: right;\">\n",
       "      <th></th>\n",
       "      <th>Pregnancies</th>\n",
       "      <th>Glucose</th>\n",
       "      <th>BloodPressure</th>\n",
       "      <th>SkinThickness</th>\n",
       "      <th>Insulin</th>\n",
       "      <th>BMI</th>\n",
       "      <th>DiabetesPedigreeFunction</th>\n",
       "      <th>Age</th>\n",
       "      <th>Outcome</th>\n",
       "    </tr>\n",
       "  </thead>\n",
       "  <tbody>\n",
       "    <tr>\n",
       "      <th>0</th>\n",
       "      <td>6</td>\n",
       "      <td>148.0</td>\n",
       "      <td>72</td>\n",
       "      <td>35.0</td>\n",
       "      <td>30.5</td>\n",
       "      <td>33.6</td>\n",
       "      <td>0.627</td>\n",
       "      <td>50</td>\n",
       "      <td>1</td>\n",
       "    </tr>\n",
       "    <tr>\n",
       "      <th>1</th>\n",
       "      <td>1</td>\n",
       "      <td>85.0</td>\n",
       "      <td>66</td>\n",
       "      <td>29.0</td>\n",
       "      <td>30.5</td>\n",
       "      <td>26.6</td>\n",
       "      <td>0.351</td>\n",
       "      <td>31</td>\n",
       "      <td>0</td>\n",
       "    </tr>\n",
       "    <tr>\n",
       "      <th>2</th>\n",
       "      <td>8</td>\n",
       "      <td>183.0</td>\n",
       "      <td>64</td>\n",
       "      <td>23.0</td>\n",
       "      <td>30.5</td>\n",
       "      <td>23.3</td>\n",
       "      <td>0.672</td>\n",
       "      <td>32</td>\n",
       "      <td>1</td>\n",
       "    </tr>\n",
       "    <tr>\n",
       "      <th>3</th>\n",
       "      <td>1</td>\n",
       "      <td>89.0</td>\n",
       "      <td>66</td>\n",
       "      <td>23.0</td>\n",
       "      <td>94.0</td>\n",
       "      <td>28.1</td>\n",
       "      <td>0.167</td>\n",
       "      <td>21</td>\n",
       "      <td>0</td>\n",
       "    </tr>\n",
       "    <tr>\n",
       "      <th>4</th>\n",
       "      <td>0</td>\n",
       "      <td>137.0</td>\n",
       "      <td>40</td>\n",
       "      <td>35.0</td>\n",
       "      <td>168.0</td>\n",
       "      <td>43.1</td>\n",
       "      <td>2.288</td>\n",
       "      <td>33</td>\n",
       "      <td>1</td>\n",
       "    </tr>\n",
       "  </tbody>\n",
       "</table>\n",
       "</div>"
      ],
      "text/plain": [
       "   Pregnancies  Glucose  BloodPressure  SkinThickness  Insulin   BMI  \\\n",
       "0            6    148.0             72           35.0     30.5  33.6   \n",
       "1            1     85.0             66           29.0     30.5  26.6   \n",
       "2            8    183.0             64           23.0     30.5  23.3   \n",
       "3            1     89.0             66           23.0     94.0  28.1   \n",
       "4            0    137.0             40           35.0    168.0  43.1   \n",
       "\n",
       "   DiabetesPedigreeFunction  Age  Outcome  \n",
       "0                     0.627   50        1  \n",
       "1                     0.351   31        0  \n",
       "2                     0.672   32        1  \n",
       "3                     0.167   21        0  \n",
       "4                     2.288   33        1  "
      ]
     },
     "execution_count": 8,
     "metadata": {},
     "output_type": "execute_result"
    }
   ],
   "source": [
    "import numpy as np\n",
    "df['Glucose']=np.where(df['Glucose']==0,df['Glucose'].median(),df['Glucose'])\n",
    "df['SkinThickness']=np.where(df['SkinThickness']==0,df['SkinThickness'].median(),df['SkinThickness'])\n",
    "df['Insulin']=np.where(df['Insulin']==0,df['Insulin'].median(),df['Insulin'])\n",
    "df.head()"
   ]
  },
  {
   "cell_type": "code",
   "execution_count": 9,
   "metadata": {},
   "outputs": [],
   "source": [
    "#### Independent And Dependent features\n",
    "X=df.drop('Outcome',axis=1)\n",
    "y=df['Outcome']"
   ]
  },
  {
   "cell_type": "code",
   "execution_count": 10,
   "metadata": {},
   "outputs": [
    {
     "data": {
      "text/html": [
       "<div>\n",
       "<style scoped>\n",
       "    .dataframe tbody tr th:only-of-type {\n",
       "        vertical-align: middle;\n",
       "    }\n",
       "\n",
       "    .dataframe tbody tr th {\n",
       "        vertical-align: top;\n",
       "    }\n",
       "\n",
       "    .dataframe thead th {\n",
       "        text-align: right;\n",
       "    }\n",
       "</style>\n",
       "<table border=\"1\" class=\"dataframe\">\n",
       "  <thead>\n",
       "    <tr style=\"text-align: right;\">\n",
       "      <th></th>\n",
       "      <th>Pregnancies</th>\n",
       "      <th>Glucose</th>\n",
       "      <th>BloodPressure</th>\n",
       "      <th>SkinThickness</th>\n",
       "      <th>Insulin</th>\n",
       "      <th>BMI</th>\n",
       "      <th>DiabetesPedigreeFunction</th>\n",
       "      <th>Age</th>\n",
       "    </tr>\n",
       "  </thead>\n",
       "  <tbody>\n",
       "    <tr>\n",
       "      <th>0</th>\n",
       "      <td>6</td>\n",
       "      <td>148.0</td>\n",
       "      <td>72</td>\n",
       "      <td>35.0</td>\n",
       "      <td>30.5</td>\n",
       "      <td>33.6</td>\n",
       "      <td>0.627</td>\n",
       "      <td>50</td>\n",
       "    </tr>\n",
       "    <tr>\n",
       "      <th>1</th>\n",
       "      <td>1</td>\n",
       "      <td>85.0</td>\n",
       "      <td>66</td>\n",
       "      <td>29.0</td>\n",
       "      <td>30.5</td>\n",
       "      <td>26.6</td>\n",
       "      <td>0.351</td>\n",
       "      <td>31</td>\n",
       "    </tr>\n",
       "    <tr>\n",
       "      <th>2</th>\n",
       "      <td>8</td>\n",
       "      <td>183.0</td>\n",
       "      <td>64</td>\n",
       "      <td>23.0</td>\n",
       "      <td>30.5</td>\n",
       "      <td>23.3</td>\n",
       "      <td>0.672</td>\n",
       "      <td>32</td>\n",
       "    </tr>\n",
       "    <tr>\n",
       "      <th>3</th>\n",
       "      <td>1</td>\n",
       "      <td>89.0</td>\n",
       "      <td>66</td>\n",
       "      <td>23.0</td>\n",
       "      <td>94.0</td>\n",
       "      <td>28.1</td>\n",
       "      <td>0.167</td>\n",
       "      <td>21</td>\n",
       "    </tr>\n",
       "    <tr>\n",
       "      <th>4</th>\n",
       "      <td>0</td>\n",
       "      <td>137.0</td>\n",
       "      <td>40</td>\n",
       "      <td>35.0</td>\n",
       "      <td>168.0</td>\n",
       "      <td>43.1</td>\n",
       "      <td>2.288</td>\n",
       "      <td>33</td>\n",
       "    </tr>\n",
       "    <tr>\n",
       "      <th>...</th>\n",
       "      <td>...</td>\n",
       "      <td>...</td>\n",
       "      <td>...</td>\n",
       "      <td>...</td>\n",
       "      <td>...</td>\n",
       "      <td>...</td>\n",
       "      <td>...</td>\n",
       "      <td>...</td>\n",
       "    </tr>\n",
       "    <tr>\n",
       "      <th>763</th>\n",
       "      <td>10</td>\n",
       "      <td>101.0</td>\n",
       "      <td>76</td>\n",
       "      <td>48.0</td>\n",
       "      <td>180.0</td>\n",
       "      <td>32.9</td>\n",
       "      <td>0.171</td>\n",
       "      <td>63</td>\n",
       "    </tr>\n",
       "    <tr>\n",
       "      <th>764</th>\n",
       "      <td>2</td>\n",
       "      <td>122.0</td>\n",
       "      <td>70</td>\n",
       "      <td>27.0</td>\n",
       "      <td>30.5</td>\n",
       "      <td>36.8</td>\n",
       "      <td>0.340</td>\n",
       "      <td>27</td>\n",
       "    </tr>\n",
       "    <tr>\n",
       "      <th>765</th>\n",
       "      <td>5</td>\n",
       "      <td>121.0</td>\n",
       "      <td>72</td>\n",
       "      <td>23.0</td>\n",
       "      <td>112.0</td>\n",
       "      <td>26.2</td>\n",
       "      <td>0.245</td>\n",
       "      <td>30</td>\n",
       "    </tr>\n",
       "    <tr>\n",
       "      <th>766</th>\n",
       "      <td>1</td>\n",
       "      <td>126.0</td>\n",
       "      <td>60</td>\n",
       "      <td>23.0</td>\n",
       "      <td>30.5</td>\n",
       "      <td>30.1</td>\n",
       "      <td>0.349</td>\n",
       "      <td>47</td>\n",
       "    </tr>\n",
       "    <tr>\n",
       "      <th>767</th>\n",
       "      <td>1</td>\n",
       "      <td>93.0</td>\n",
       "      <td>70</td>\n",
       "      <td>31.0</td>\n",
       "      <td>30.5</td>\n",
       "      <td>30.4</td>\n",
       "      <td>0.315</td>\n",
       "      <td>23</td>\n",
       "    </tr>\n",
       "  </tbody>\n",
       "</table>\n",
       "<p>768 rows × 8 columns</p>\n",
       "</div>"
      ],
      "text/plain": [
       "     Pregnancies  Glucose  BloodPressure  SkinThickness  Insulin   BMI  \\\n",
       "0              6    148.0             72           35.0     30.5  33.6   \n",
       "1              1     85.0             66           29.0     30.5  26.6   \n",
       "2              8    183.0             64           23.0     30.5  23.3   \n",
       "3              1     89.0             66           23.0     94.0  28.1   \n",
       "4              0    137.0             40           35.0    168.0  43.1   \n",
       "..           ...      ...            ...            ...      ...   ...   \n",
       "763           10    101.0             76           48.0    180.0  32.9   \n",
       "764            2    122.0             70           27.0     30.5  36.8   \n",
       "765            5    121.0             72           23.0    112.0  26.2   \n",
       "766            1    126.0             60           23.0     30.5  30.1   \n",
       "767            1     93.0             70           31.0     30.5  30.4   \n",
       "\n",
       "     DiabetesPedigreeFunction  Age  \n",
       "0                       0.627   50  \n",
       "1                       0.351   31  \n",
       "2                       0.672   32  \n",
       "3                       0.167   21  \n",
       "4                       2.288   33  \n",
       "..                        ...  ...  \n",
       "763                     0.171   63  \n",
       "764                     0.340   27  \n",
       "765                     0.245   30  \n",
       "766                     0.349   47  \n",
       "767                     0.315   23  \n",
       "\n",
       "[768 rows x 8 columns]"
      ]
     },
     "execution_count": 10,
     "metadata": {},
     "output_type": "execute_result"
    }
   ],
   "source": [
    "pd.DataFrame(X,columns=df.columns[:-1])"
   ]
  },
  {
   "cell_type": "code",
   "execution_count": 11,
   "metadata": {},
   "outputs": [],
   "source": [
    "#### Train Test Split\n",
    "from sklearn.model_selection import train_test_split\n",
    "X_train,X_test,y_train,y_test=train_test_split(X,y,test_size=0.20,random_state=0)"
   ]
  },
  {
   "cell_type": "code",
   "execution_count": 12,
   "metadata": {},
   "outputs": [],
   "source": [
    "from sklearn.ensemble import RandomForestClassifier\n",
    "rf_classifier=RandomForestClassifier(n_estimators=10).fit(X_train,y_train)\n",
    "prediction=rf_classifier.predict(X_test)"
   ]
  },
  {
   "cell_type": "code",
   "execution_count": 13,
   "metadata": {},
   "outputs": [
    {
     "data": {
      "text/plain": [
       "0    500\n",
       "1    268\n",
       "Name: Outcome, dtype: int64"
      ]
     },
     "execution_count": 13,
     "metadata": {},
     "output_type": "execute_result"
    }
   ],
   "source": [
    "y.value_counts()"
   ]
  },
  {
   "cell_type": "code",
   "execution_count": 14,
   "metadata": {},
   "outputs": [
    {
     "name": "stdout",
     "output_type": "stream",
     "text": [
      "[[94 13]\n",
      " [20 27]]\n",
      "0.7857142857142857\n",
      "              precision    recall  f1-score   support\n",
      "\n",
      "           0       0.82      0.88      0.85       107\n",
      "           1       0.68      0.57      0.62        47\n",
      "\n",
      "    accuracy                           0.79       154\n",
      "   macro avg       0.75      0.73      0.74       154\n",
      "weighted avg       0.78      0.79      0.78       154\n",
      "\n"
     ]
    }
   ],
   "source": [
    "from sklearn.metrics import confusion_matrix,classification_report,accuracy_score\n",
    "print(confusion_matrix(y_test,prediction))\n",
    "print(accuracy_score(y_test,prediction))\n",
    "print(classification_report(y_test,prediction))"
   ]
  },
  {
   "cell_type": "markdown",
   "metadata": {},
   "source": [
    "The main parameters used by a Random Forest Classifier are:\n",
    "\n",
    "- criterion = the function used to evaluate the quality of a split.\n",
    "- max_depth = maximum number of levels allowed in each tree.\n",
    "- max_features = maximum number of features considered when splitting a node.\n",
    "- min_samples_leaf = minimum number of samples which can be stored in a tree leaf.\n",
    "- min_samples_split = minimum number of samples necessary in a node to cause node splitting.\n",
    "- n_estimators = number of trees in the ensamble."
   ]
  },
  {
   "cell_type": "code",
   "execution_count": 16,
   "metadata": {},
   "outputs": [
    {
     "name": "stdout",
     "output_type": "stream",
     "text": [
      "[[97 10]\n",
      " [17 30]]\n",
      "0.8246753246753247\n",
      "              precision    recall  f1-score   support\n",
      "\n",
      "           0       0.85      0.91      0.88       107\n",
      "           1       0.75      0.64      0.69        47\n",
      "\n",
      "    accuracy                           0.82       154\n",
      "   macro avg       0.80      0.77      0.78       154\n",
      "weighted avg       0.82      0.82      0.82       154\n",
      "\n"
     ]
    }
   ],
   "source": [
    "### Manual Hyperparameter Tuning\n",
    "model=RandomForestClassifier(n_estimators=300,\n",
    "                             criterion='entropy',\n",
    "                             max_features='sqrt',\n",
    "                             min_samples_leaf=10,\n",
    "                             random_state=100).fit(X_train,y_train)\n",
    "predictions=model.predict(X_test)\n",
    "print(confusion_matrix(y_test,predictions))\n",
    "print(accuracy_score(y_test,predictions))\n",
    "print(classification_report(y_test,predictions))"
   ]
  },
  {
   "cell_type": "markdown",
   "metadata": {},
   "source": [
    "##### Randomized Search Cv"
   ]
  },
  {
   "cell_type": "code",
   "execution_count": 17,
   "metadata": {},
   "outputs": [
    {
     "name": "stdout",
     "output_type": "stream",
     "text": [
      "{'n_estimators': [200, 400, 600, 800, 1000, 1200, 1400, 1600, 1800, 2000], 'max_features': ['auto', 'sqrt', 'log2'], 'max_depth': [10, 120, 230, 340, 450, 560, 670, 780, 890, 1000], 'min_samples_split': [2, 5, 10, 14], 'min_samples_leaf': [1, 2, 4, 6, 8], 'criterion': ['entropy', 'gini']}\n"
     ]
    }
   ],
   "source": [
    "import numpy as np\n",
    "from sklearn.model_selection import RandomizedSearchCV\n",
    "# Number of trees in random forest\n",
    "n_estimators = [int(x) for x in np.linspace(start = 200, stop = 2000, num = 10)]\n",
    "# Number of features to consider at every split\n",
    "max_features = ['auto', 'sqrt','log2']\n",
    "# Maximum number of levels in tree\n",
    "max_depth = [int(x) for x in np.linspace(10, 1000,10)]\n",
    "# Minimum number of samples required to split a node\n",
    "min_samples_split = [2, 5, 10,14]\n",
    "# Minimum number of samples required at each leaf node\n",
    "min_samples_leaf = [1, 2, 4,6,8]\n",
    "# Create the random grid\n",
    "random_grid = {'n_estimators': n_estimators,\n",
    "               'max_features': max_features,\n",
    "               'max_depth': max_depth,\n",
    "               'min_samples_split': min_samples_split,\n",
    "               'min_samples_leaf': min_samples_leaf,\n",
    "              'criterion':['entropy','gini']}\n",
    "print(random_grid)"
   ]
  },
  {
   "cell_type": "code",
   "execution_count": 18,
   "metadata": {},
   "outputs": [
    {
     "name": "stdout",
     "output_type": "stream",
     "text": [
      "Fitting 3 folds for each of 100 candidates, totalling 300 fits\n"
     ]
    },
    {
     "data": {
      "text/plain": [
       "RandomizedSearchCV(cv=3, estimator=RandomForestClassifier(), n_iter=100,\n",
       "                   n_jobs=-1,\n",
       "                   param_distributions={'criterion': ['entropy', 'gini'],\n",
       "                                        'max_depth': [10, 120, 230, 340, 450,\n",
       "                                                      560, 670, 780, 890,\n",
       "                                                      1000],\n",
       "                                        'max_features': ['auto', 'sqrt',\n",
       "                                                         'log2'],\n",
       "                                        'min_samples_leaf': [1, 2, 4, 6, 8],\n",
       "                                        'min_samples_split': [2, 5, 10, 14],\n",
       "                                        'n_estimators': [200, 400, 600, 800,\n",
       "                                                         1000, 1200, 1400, 1600,\n",
       "                                                         1800, 2000]},\n",
       "                   random_state=100, verbose=2)"
      ]
     },
     "execution_count": 18,
     "metadata": {},
     "output_type": "execute_result"
    }
   ],
   "source": [
    "rf=RandomForestClassifier()\n",
    "rf_randomcv=RandomizedSearchCV(estimator=rf,\n",
    "                               param_distributions=random_grid,\n",
    "                               n_iter=100,\n",
    "                               cv=3,\n",
    "                               verbose=2,\n",
    "                               random_state=100,\n",
    "                               n_jobs=-1)\n",
    "### fit the randomized model\n",
    "rf_randomcv.fit(X_train,y_train)"
   ]
  },
  {
   "cell_type": "code",
   "execution_count": 20,
   "metadata": {},
   "outputs": [
    {
     "data": {
      "text/plain": [
       "{'n_estimators': 1400,\n",
       " 'min_samples_split': 2,\n",
       " 'min_samples_leaf': 1,\n",
       " 'max_features': 'sqrt',\n",
       " 'max_depth': 230,\n",
       " 'criterion': 'gini'}"
      ]
     },
     "execution_count": 20,
     "metadata": {},
     "output_type": "execute_result"
    }
   ],
   "source": [
    "rf_randomcv.best_params_"
   ]
  },
  {
   "cell_type": "code",
   "execution_count": 21,
   "metadata": {},
   "outputs": [
    {
     "data": {
      "text/plain": [
       "RandomizedSearchCV(cv=3, estimator=RandomForestClassifier(), n_iter=100,\n",
       "                   n_jobs=-1,\n",
       "                   param_distributions={'criterion': ['entropy', 'gini'],\n",
       "                                        'max_depth': [10, 120, 230, 340, 450,\n",
       "                                                      560, 670, 780, 890,\n",
       "                                                      1000],\n",
       "                                        'max_features': ['auto', 'sqrt',\n",
       "                                                         'log2'],\n",
       "                                        'min_samples_leaf': [1, 2, 4, 6, 8],\n",
       "                                        'min_samples_split': [2, 5, 10, 14],\n",
       "                                        'n_estimators': [200, 400, 600, 800,\n",
       "                                                         1000, 1200, 1400, 1600,\n",
       "                                                         1800, 2000]},\n",
       "                   random_state=100, verbose=2)"
      ]
     },
     "execution_count": 21,
     "metadata": {},
     "output_type": "execute_result"
    }
   ],
   "source": [
    "rf_randomcv"
   ]
  },
  {
   "cell_type": "code",
   "execution_count": 22,
   "metadata": {},
   "outputs": [],
   "source": [
    "best_random_grid=rf_randomcv.best_estimator_"
   ]
  },
  {
   "cell_type": "code",
   "execution_count": 23,
   "metadata": {},
   "outputs": [
    {
     "name": "stdout",
     "output_type": "stream",
     "text": [
      "[[94 13]\n",
      " [14 33]]\n",
      "Accuracy Score 0.8246753246753247\n",
      "Classification report:               precision    recall  f1-score   support\n",
      "\n",
      "           0       0.87      0.88      0.87       107\n",
      "           1       0.72      0.70      0.71        47\n",
      "\n",
      "    accuracy                           0.82       154\n",
      "   macro avg       0.79      0.79      0.79       154\n",
      "weighted avg       0.82      0.82      0.82       154\n",
      "\n"
     ]
    }
   ],
   "source": [
    "from sklearn.metrics import accuracy_score\n",
    "y_pred=best_random_grid.predict(X_test)\n",
    "print(confusion_matrix(y_test,y_pred))\n",
    "print(\"Accuracy Score {}\".format(accuracy_score(y_test,y_pred)))\n",
    "print(\"Classification report: {}\".format(classification_report(y_test,y_pred)))"
   ]
  },
  {
   "cell_type": "markdown",
   "metadata": {},
   "source": [
    "#### GridSearch CV"
   ]
  },
  {
   "cell_type": "code",
   "execution_count": 24,
   "metadata": {},
   "outputs": [
    {
     "data": {
      "text/plain": [
       "{'n_estimators': 1400,\n",
       " 'min_samples_split': 2,\n",
       " 'min_samples_leaf': 1,\n",
       " 'max_features': 'sqrt',\n",
       " 'max_depth': 230,\n",
       " 'criterion': 'gini'}"
      ]
     },
     "execution_count": 24,
     "metadata": {},
     "output_type": "execute_result"
    }
   ],
   "source": [
    "rf_randomcv.best_params_"
   ]
  },
  {
   "cell_type": "code",
   "execution_count": 25,
   "metadata": {},
   "outputs": [
    {
     "name": "stdout",
     "output_type": "stream",
     "text": [
      "{'criterion': ['gini'], 'max_depth': [230], 'max_features': ['sqrt'], 'min_samples_leaf': [1, 3, 5], 'min_samples_split': [0, 1, 2, 3, 4], 'n_estimators': [1200, 1300, 1400, 1500, 1600]}\n"
     ]
    }
   ],
   "source": [
    "from sklearn.model_selection import GridSearchCV\n",
    "\n",
    "param_grid = {\n",
    "    'criterion': [rf_randomcv.best_params_['criterion']],\n",
    "    'max_depth': [rf_randomcv.best_params_['max_depth']],\n",
    "    'max_features': [rf_randomcv.best_params_['max_features']],\n",
    "    'min_samples_leaf': [rf_randomcv.best_params_['min_samples_leaf'], \n",
    "                         rf_randomcv.best_params_['min_samples_leaf']+2, \n",
    "                         rf_randomcv.best_params_['min_samples_leaf'] + 4],\n",
    "    'min_samples_split': [rf_randomcv.best_params_['min_samples_split'] - 2,\n",
    "                          rf_randomcv.best_params_['min_samples_split'] - 1,\n",
    "                          rf_randomcv.best_params_['min_samples_split'], \n",
    "                          rf_randomcv.best_params_['min_samples_split'] +1,\n",
    "                          rf_randomcv.best_params_['min_samples_split'] + 2],\n",
    "    'n_estimators': [rf_randomcv.best_params_['n_estimators'] - 200, rf_randomcv.best_params_['n_estimators'] - 100, \n",
    "                     rf_randomcv.best_params_['n_estimators'], \n",
    "                     rf_randomcv.best_params_['n_estimators'] + 100, rf_randomcv.best_params_['n_estimators'] + 200]\n",
    "}\n",
    "\n",
    "print(param_grid)"
   ]
  },
  {
   "cell_type": "code",
   "execution_count": 26,
   "metadata": {},
   "outputs": [
    {
     "name": "stdout",
     "output_type": "stream",
     "text": [
      "Fitting 10 folds for each of 75 candidates, totalling 750 fits\n"
     ]
    },
    {
     "data": {
      "text/plain": [
       "GridSearchCV(cv=10, estimator=RandomForestClassifier(), n_jobs=-1,\n",
       "             param_grid={'criterion': ['gini'], 'max_depth': [230],\n",
       "                         'max_features': ['sqrt'],\n",
       "                         'min_samples_leaf': [1, 3, 5],\n",
       "                         'min_samples_split': [0, 1, 2, 3, 4],\n",
       "                         'n_estimators': [1200, 1300, 1400, 1500, 1600]},\n",
       "             verbose=2)"
      ]
     },
     "execution_count": 26,
     "metadata": {},
     "output_type": "execute_result"
    }
   ],
   "source": [
    "#### Fit the grid_search to the data\n",
    "rf=RandomForestClassifier()\n",
    "grid_search=GridSearchCV(estimator=rf,param_grid=param_grid,cv=10,n_jobs=-1,verbose=2)\n",
    "grid_search.fit(X_train,y_train)\n"
   ]
  },
  {
   "cell_type": "code",
   "execution_count": 27,
   "metadata": {},
   "outputs": [
    {
     "data": {
      "text/plain": [
       "RandomForestClassifier(max_depth=230, max_features='sqrt', min_samples_leaf=5,\n",
       "                       min_samples_split=4, n_estimators=1600)"
      ]
     },
     "execution_count": 27,
     "metadata": {},
     "output_type": "execute_result"
    }
   ],
   "source": [
    "grid_search.best_estimator_"
   ]
  },
  {
   "cell_type": "code",
   "execution_count": 28,
   "metadata": {},
   "outputs": [],
   "source": [
    "best_grid=grid_search.best_estimator_"
   ]
  },
  {
   "cell_type": "code",
   "execution_count": 29,
   "metadata": {},
   "outputs": [
    {
     "data": {
      "text/plain": [
       "RandomForestClassifier(max_depth=230, max_features='sqrt', min_samples_leaf=5,\n",
       "                       min_samples_split=4, n_estimators=1600)"
      ]
     },
     "execution_count": 29,
     "metadata": {},
     "output_type": "execute_result"
    }
   ],
   "source": [
    "best_grid"
   ]
  },
  {
   "cell_type": "code",
   "execution_count": 30,
   "metadata": {},
   "outputs": [
    {
     "name": "stdout",
     "output_type": "stream",
     "text": [
      "[[97 10]\n",
      " [16 31]]\n",
      "Accuracy Score 0.8311688311688312\n",
      "Classification report:               precision    recall  f1-score   support\n",
      "\n",
      "           0       0.86      0.91      0.88       107\n",
      "           1       0.76      0.66      0.70        47\n",
      "\n",
      "    accuracy                           0.83       154\n",
      "   macro avg       0.81      0.78      0.79       154\n",
      "weighted avg       0.83      0.83      0.83       154\n",
      "\n"
     ]
    }
   ],
   "source": [
    "y_pred=best_grid.predict(X_test)\n",
    "print(confusion_matrix(y_test,y_pred))\n",
    "print(\"Accuracy Score {}\".format(accuracy_score(y_test,y_pred)))\n",
    "print(\"Classification report: {}\".format(classification_report(y_test,y_pred)))"
   ]
  },
  {
   "cell_type": "markdown",
   "metadata": {},
   "source": [
    "### Automated Hyperparameter Tuning\n",
    "Automated Hyperparameter Tuning can be done by using techniques such as \n",
    "- Bayesian Optimization\n",
    "- Gradient Descent\n",
    "- Evolutionary Algorithms"
   ]
  },
  {
   "cell_type": "markdown",
   "metadata": {},
   "source": [
    "#### Bayesian Optimization\n",
    "Bayesian optimization uses probability to find the minimum of a function. The final aim is to find the input value to a function which can gives us the lowest possible output value.It usually performs better than random,grid and manual search providing better performance in the testing phase and reduced optimization time.\n",
    "In Hyperopt, Bayesian Optimization can be implemented giving 3 three main parameters to the function fmin.\n",
    "\n",
    "- Objective Function = defines the loss function to minimize.\n",
    "- Domain Space = defines the range of input values to test (in Bayesian Optimization this space creates a probability distribution for each of the used Hyperparameters).\n",
    "- Optimization Algorithm = defines the search algorithm to use to select the best input values to use in each new iteration."
   ]
  },
  {
   "cell_type": "code",
   "execution_count": 19,
   "metadata": {},
   "outputs": [
    {
     "name": "stdout",
     "output_type": "stream",
     "text": [
      "Collecting hyperopt\n",
      "  Downloading hyperopt-0.2.5-py2.py3-none-any.whl (965 kB)\n",
      "\u001b[K     |████████████████████████████████| 965 kB 2.0 MB/s eta 0:00:01     |███████▉                        | 235 kB 2.0 MB/s eta 0:00:01\n",
      "\u001b[?25hRequirement already satisfied: scipy in /home/jxd/anaconda3/lib/python3.8/site-packages (from hyperopt) (1.6.2)\n",
      "Requirement already satisfied: six in /home/jxd/anaconda3/lib/python3.8/site-packages (from hyperopt) (1.15.0)\n",
      "Requirement already satisfied: tqdm in /home/jxd/anaconda3/lib/python3.8/site-packages (from hyperopt) (4.59.0)\n",
      "Requirement already satisfied: cloudpickle in /home/jxd/anaconda3/lib/python3.8/site-packages (from hyperopt) (1.6.0)\n",
      "Requirement already satisfied: networkx>=2.2 in /home/jxd/anaconda3/lib/python3.8/site-packages (from hyperopt) (2.5)\n",
      "Requirement already satisfied: numpy in /home/jxd/anaconda3/lib/python3.8/site-packages (from hyperopt) (1.20.1)\n",
      "Requirement already satisfied: future in /home/jxd/anaconda3/lib/python3.8/site-packages (from hyperopt) (0.18.2)\n",
      "Requirement already satisfied: decorator>=4.3.0 in /home/jxd/anaconda3/lib/python3.8/site-packages (from networkx>=2.2->hyperopt) (5.0.6)\n",
      "Installing collected packages: hyperopt\n",
      "Successfully installed hyperopt-0.2.5\n"
     ]
    }
   ],
   "source": [
    "#!pip install hyperopt"
   ]
  },
  {
   "cell_type": "code",
   "execution_count": 31,
   "metadata": {},
   "outputs": [],
   "source": [
    "from hyperopt import hp,fmin,tpe,STATUS_OK,Trials"
   ]
  },
  {
   "cell_type": "code",
   "execution_count": 32,
   "metadata": {},
   "outputs": [],
   "source": [
    "space = {'criterion': hp.choice('criterion', ['entropy', 'gini']),\n",
    "        'max_depth': hp.quniform('max_depth', 10, 1200, 10),\n",
    "        'max_features': hp.choice('max_features', ['auto', 'sqrt','log2', None]),\n",
    "        'min_samples_leaf': hp.uniform('min_samples_leaf', 0, 0.5),\n",
    "        'min_samples_split' : hp.uniform ('min_samples_split', 0, 1),\n",
    "        'n_estimators' : hp.choice('n_estimators', [10, 50, 300, 750, 1200,1300,1500])\n",
    "    }"
   ]
  },
  {
   "cell_type": "code",
   "execution_count": 33,
   "metadata": {},
   "outputs": [
    {
     "data": {
      "text/plain": [
       "{'criterion': <hyperopt.pyll.base.Apply at 0x7f790c74b580>,\n",
       " 'max_depth': <hyperopt.pyll.base.Apply at 0x7f790c74b700>,\n",
       " 'max_features': <hyperopt.pyll.base.Apply at 0x7f790c74b7f0>,\n",
       " 'min_samples_leaf': <hyperopt.pyll.base.Apply at 0x7f790c74ba00>,\n",
       " 'min_samples_split': <hyperopt.pyll.base.Apply at 0x7f790c74bb50>,\n",
       " 'n_estimators': <hyperopt.pyll.base.Apply at 0x7f790c74bc40>}"
      ]
     },
     "execution_count": 33,
     "metadata": {},
     "output_type": "execute_result"
    }
   ],
   "source": [
    "space"
   ]
  },
  {
   "cell_type": "code",
   "execution_count": 34,
   "metadata": {},
   "outputs": [],
   "source": [
    "\n",
    "def objective(space):\n",
    "    model = RandomForestClassifier(criterion = space['criterion'], max_depth = space['max_depth'],\n",
    "                                 max_features = space['max_features'],\n",
    "                                 min_samples_leaf = space['min_samples_leaf'],\n",
    "                                 min_samples_split = space['min_samples_split'],\n",
    "                                 n_estimators = space['n_estimators'], \n",
    "                                 )\n",
    "    \n",
    "    accuracy = cross_val_score(model, X_train, y_train, cv = 5).mean()\n",
    "\n",
    "    # We aim to maximize accuracy, therefore we return it as a negative value\n",
    "    return {'loss': -accuracy, 'status': STATUS_OK }"
   ]
  },
  {
   "cell_type": "code",
   "execution_count": 35,
   "metadata": {},
   "outputs": [
    {
     "name": "stdout",
     "output_type": "stream",
     "text": [
      "100%|██████████| 80/80 [12:56<00:00,  9.70s/trial, best loss: -0.7703585232573638]\n"
     ]
    },
    {
     "data": {
      "text/plain": [
       "{'criterion': 0,\n",
       " 'max_depth': 200.0,\n",
       " 'max_features': 2,\n",
       " 'min_samples_leaf': 0.09952406180247866,\n",
       " 'min_samples_split': 0.19493882196168366,\n",
       " 'n_estimators': 4}"
      ]
     },
     "execution_count": 35,
     "metadata": {},
     "output_type": "execute_result"
    }
   ],
   "source": [
    "from sklearn.model_selection import cross_val_score\n",
    "trials = Trials()\n",
    "best = fmin(fn= objective,\n",
    "            space= space,\n",
    "            algo= tpe.suggest,\n",
    "            max_evals = 80,\n",
    "            trials= trials)\n",
    "best"
   ]
  },
  {
   "cell_type": "code",
   "execution_count": 36,
   "metadata": {},
   "outputs": [
    {
     "name": "stdout",
     "output_type": "stream",
     "text": [
      "entropy\n",
      "log2\n",
      "1200\n"
     ]
    }
   ],
   "source": [
    "crit = {0: 'entropy', 1: 'gini'}\n",
    "feat = {0: 'auto', 1: 'sqrt', 2: 'log2', 3: None}\n",
    "est = {0: 10, 1: 50, 2: 300, 3: 750, 4: 1200,5:1300,6:1500}\n",
    "\n",
    "\n",
    "print(crit[best['criterion']])\n",
    "print(feat[best['max_features']])\n",
    "print(est[best['n_estimators']])"
   ]
  },
  {
   "cell_type": "code",
   "execution_count": 37,
   "metadata": {},
   "outputs": [
    {
     "data": {
      "text/plain": [
       "0.09952406180247866"
      ]
     },
     "execution_count": 37,
     "metadata": {},
     "output_type": "execute_result"
    }
   ],
   "source": [
    "best['min_samples_leaf']"
   ]
  },
  {
   "cell_type": "code",
   "execution_count": 38,
   "metadata": {},
   "outputs": [
    {
     "name": "stdout",
     "output_type": "stream",
     "text": [
      "[[97 10]\n",
      " [25 22]]\n",
      "0.7727272727272727\n",
      "              precision    recall  f1-score   support\n",
      "\n",
      "           0       0.80      0.91      0.85       107\n",
      "           1       0.69      0.47      0.56        47\n",
      "\n",
      "    accuracy                           0.77       154\n",
      "   macro avg       0.74      0.69      0.70       154\n",
      "weighted avg       0.76      0.77      0.76       154\n",
      "\n"
     ]
    }
   ],
   "source": [
    "trainedforest = RandomForestClassifier(criterion = crit[best['criterion']], max_depth = best['max_depth'], \n",
    "                                       max_features = feat[best['max_features']], \n",
    "                                       min_samples_leaf = best['min_samples_leaf'], \n",
    "                                       min_samples_split = best['min_samples_split'], \n",
    "                                       n_estimators = est[best['n_estimators']]).fit(X_train,y_train)\n",
    "predictionforest = trainedforest.predict(X_test)\n",
    "print(confusion_matrix(y_test,predictionforest))\n",
    "print(accuracy_score(y_test,predictionforest))\n",
    "print(classification_report(y_test,predictionforest))\n",
    "acc5 = accuracy_score(y_test,predictionforest)"
   ]
  },
  {
   "cell_type": "markdown",
   "metadata": {},
   "source": [
    "#### Genetic Algorithms\n",
    "Genetic Algorithms tries to apply natural selection mechanisms to Machine Learning contexts.\n",
    "\n",
    "Let's immagine we create a population of N Machine Learning models with some predifined Hyperparameters. We can then calculate the accuracy of each model and decide to keep just half of the models (the ones that performs best). We can now generate some offsprings having similar Hyperparameters to the ones of the best models so that go get again a population of N models. At this point we can again caltulate the accuracy of each model and repeate the cycle for a defined number of generations. In this way, just the best models will survive at the end of the process."
   ]
  },
  {
   "cell_type": "code",
   "execution_count": 39,
   "metadata": {},
   "outputs": [
    {
     "name": "stdout",
     "output_type": "stream",
     "text": [
      "{'n_estimators': [200, 400, 600, 800, 1000, 1200, 1400, 1600, 1800, 2000], 'max_features': ['auto', 'sqrt', 'log2'], 'max_depth': [10, 120, 230, 340, 450, 560, 670, 780, 890, 1000], 'min_samples_split': [2, 5, 10, 14], 'min_samples_leaf': [1, 2, 4, 6, 8], 'criterion': ['entropy', 'gini']}\n"
     ]
    }
   ],
   "source": [
    "import numpy as np\n",
    "from sklearn.model_selection import RandomizedSearchCV\n",
    "# Number of trees in random forest\n",
    "n_estimators = [int(x) for x in np.linspace(start = 200, stop = 2000, num = 10)]\n",
    "# Number of features to consider at every split\n",
    "max_features = ['auto', 'sqrt','log2']\n",
    "# Maximum number of levels in tree\n",
    "max_depth = [int(x) for x in np.linspace(10, 1000,10)]\n",
    "# Minimum number of samples required to split a node\n",
    "min_samples_split = [2, 5, 10,14]\n",
    "# Minimum number of samples required at each leaf node\n",
    "min_samples_leaf = [1, 2, 4,6,8]\n",
    "# Create the random grid\n",
    "param = {'n_estimators': n_estimators,\n",
    "               'max_features': max_features,\n",
    "               'max_depth': max_depth,\n",
    "               'min_samples_split': min_samples_split,\n",
    "               'min_samples_leaf': min_samples_leaf,\n",
    "              'criterion':['entropy','gini']}\n",
    "print(param)"
   ]
  },
  {
   "cell_type": "code",
   "execution_count": 41,
   "metadata": {},
   "outputs": [
    {
     "name": "stdout",
     "output_type": "stream",
     "text": [
      "Collecting tpot\n",
      "  Downloading TPOT-0.11.7-py3-none-any.whl (87 kB)\n",
      "\u001b[K     |████████████████████████████████| 87 kB 658 kB/s eta 0:00:01\n",
      "\u001b[?25hRequirement already satisfied: numpy>=1.16.3 in /home/jxd/anaconda3/lib/python3.8/site-packages (from tpot) (1.20.1)\n",
      "Requirement already satisfied: scipy>=1.3.1 in /home/jxd/anaconda3/lib/python3.8/site-packages (from tpot) (1.6.2)\n",
      "Collecting xgboost>=1.1.0\n",
      "  Downloading xgboost-1.4.2-py3-none-manylinux2010_x86_64.whl (166.7 MB)\n",
      "\u001b[K     |████████████████████████████████| 166.7 MB 4.3 kB/s eta 0:00:01   |█▋                              | 8.6 MB 3.6 MB/s eta 0:00:45     |███                             | 15.1 MB 6.5 MB/s eta 0:00:24     |███▉                            | 20.0 MB 5.4 MB/s eta 0:00:28     |█████▎                          | 27.5 MB 6.3 MB/s eta 0:00:23     |███████████████▌                | 81.0 MB 5.4 MB/s eta 0:00:16     |█████████████████▊              | 92.3 MB 10.6 MB/s eta 0:00:08     |███████████████████▉            | 103.4 MB 6.9 MB/s eta 0:00:10     |█████████████████████████       | 130.1 MB 6.2 MB/s eta 0:00:06     |██████████████████████████      | 135.9 MB 6.6 MB/s eta 0:00:05     |███████████████████████████▎    | 142.1 MB 6.2 MB/s eta 0:00:04\n",
      "\u001b[?25hRequirement already satisfied: tqdm>=4.36.1 in /home/jxd/anaconda3/lib/python3.8/site-packages (from tpot) (4.59.0)\n",
      "Collecting update-checker>=0.16\n",
      "  Downloading update_checker-0.18.0-py3-none-any.whl (7.0 kB)\n",
      "Collecting stopit>=1.1.1\n",
      "  Downloading stopit-1.1.2.tar.gz (18 kB)\n",
      "Requirement already satisfied: scikit-learn>=0.22.0 in /home/jxd/anaconda3/lib/python3.8/site-packages (from tpot) (0.24.1)\n",
      "Requirement already satisfied: pandas>=0.24.2 in /home/jxd/anaconda3/lib/python3.8/site-packages (from tpot) (1.2.4)\n",
      "Collecting deap>=1.2\n",
      "  Downloading deap-1.3.1-cp38-cp38-manylinux_2_5_x86_64.manylinux1_x86_64.manylinux_2_12_x86_64.manylinux2010_x86_64.whl (160 kB)\n",
      "\u001b[K     |████████████████████████████████| 160 kB 5.5 MB/s eta 0:00:01\n",
      "\u001b[?25hRequirement already satisfied: joblib>=0.13.2 in /home/jxd/anaconda3/lib/python3.8/site-packages (from tpot) (1.0.1)\n",
      "Requirement already satisfied: python-dateutil>=2.7.3 in /home/jxd/anaconda3/lib/python3.8/site-packages (from pandas>=0.24.2->tpot) (2.8.1)\n",
      "Requirement already satisfied: pytz>=2017.3 in /home/jxd/anaconda3/lib/python3.8/site-packages (from pandas>=0.24.2->tpot) (2021.1)\n",
      "Requirement already satisfied: six>=1.5 in /home/jxd/anaconda3/lib/python3.8/site-packages (from python-dateutil>=2.7.3->pandas>=0.24.2->tpot) (1.15.0)\n",
      "Requirement already satisfied: threadpoolctl>=2.0.0 in /home/jxd/anaconda3/lib/python3.8/site-packages (from scikit-learn>=0.22.0->tpot) (2.1.0)\n",
      "Requirement already satisfied: requests>=2.3.0 in /home/jxd/anaconda3/lib/python3.8/site-packages (from update-checker>=0.16->tpot) (2.25.1)\n",
      "Requirement already satisfied: chardet<5,>=3.0.2 in /home/jxd/anaconda3/lib/python3.8/site-packages (from requests>=2.3.0->update-checker>=0.16->tpot) (4.0.0)\n",
      "Requirement already satisfied: certifi>=2017.4.17 in /home/jxd/anaconda3/lib/python3.8/site-packages (from requests>=2.3.0->update-checker>=0.16->tpot) (2020.12.5)\n",
      "Requirement already satisfied: idna<3,>=2.5 in /home/jxd/anaconda3/lib/python3.8/site-packages (from requests>=2.3.0->update-checker>=0.16->tpot) (2.10)\n",
      "Requirement already satisfied: urllib3<1.27,>=1.21.1 in /home/jxd/anaconda3/lib/python3.8/site-packages (from requests>=2.3.0->update-checker>=0.16->tpot) (1.26.4)\n",
      "Building wheels for collected packages: stopit\n",
      "  Building wheel for stopit (setup.py) ... \u001b[?25ldone\n",
      "\u001b[?25h  Created wheel for stopit: filename=stopit-1.1.2-py3-none-any.whl size=11955 sha256=3d7e052916c77351b947ba57c8caed89374a0f5c314c8ecbc86e477d4f33b745\n",
      "  Stored in directory: /home/jxd/.cache/pip/wheels/a8/bb/8f/6b9328d23c2dcedbfeb8498b9f650d55d463089e3b8fc0bfb2\n",
      "Successfully built stopit\n",
      "Installing collected packages: xgboost, update-checker, stopit, deap, tpot\n",
      "Successfully installed deap-1.3.1 stopit-1.1.2 tpot-0.11.7 update-checker-0.18.0 xgboost-1.4.2\n"
     ]
    }
   ],
   "source": [
    "#!pip install tpot"
   ]
  },
  {
   "cell_type": "code",
   "execution_count": 42,
   "metadata": {},
   "outputs": [
    {
     "data": {
      "application/vnd.jupyter.widget-view+json": {
       "model_id": "",
       "version_major": 2,
       "version_minor": 0
      },
      "text/plain": [
       "Optimization Progress:   0%|          | 0/84 [00:00<?, ?pipeline/s]"
      ]
     },
     "metadata": {},
     "output_type": "display_data"
    },
    {
     "name": "stdout",
     "output_type": "stream",
     "text": [
      "\n",
      "Generation 1 - Current best internal CV score: 0.7638146167557932\n",
      "\n",
      "Generation 2 - Current best internal CV score: 0.7638146167557932\n",
      "\n",
      "Generation 3 - Current best internal CV score: 0.7638146167557932\n",
      "\n",
      "Generation 4 - Current best internal CV score: 0.7638146167557932\n",
      "\n",
      "Generation 5 - Current best internal CV score: 0.7638146167557932\n",
      "\n",
      "Best pipeline: RandomForestClassifier(CombineDFs(RandomForestClassifier(input_matrix, criterion=gini, max_depth=10, max_features=log2, min_samples_leaf=6, min_samples_split=10, n_estimators=400), input_matrix), criterion=entropy, max_depth=340, max_features=sqrt, min_samples_leaf=8, min_samples_split=5, n_estimators=600)\n"
     ]
    },
    {
     "data": {
      "text/plain": [
       "TPOTClassifier(config_dict={'sklearn.ensemble.RandomForestClassifier': {'criterion': ['entropy',\n",
       "                                                                                      'gini'],\n",
       "                                                                        'max_depth': [10,\n",
       "                                                                                      120,\n",
       "                                                                                      230,\n",
       "                                                                                      340,\n",
       "                                                                                      450,\n",
       "                                                                                      560,\n",
       "                                                                                      670,\n",
       "                                                                                      780,\n",
       "                                                                                      890,\n",
       "                                                                                      1000],\n",
       "                                                                        'max_features': ['auto',\n",
       "                                                                                         'sqrt',\n",
       "                                                                                         'log2'],\n",
       "                                                                        'min_samples_leaf': [1,\n",
       "                                                                                             2,\n",
       "                                                                                             4,\n",
       "                                                                                             6,\n",
       "                                                                                             8],\n",
       "                                                                        'min_samples_split': [2,\n",
       "                                                                                              5,\n",
       "                                                                                              10,\n",
       "                                                                                              14],\n",
       "                                                                        'n_estimators': [200,\n",
       "                                                                                         400,\n",
       "                                                                                         600,\n",
       "                                                                                         800,\n",
       "                                                                                         1000,\n",
       "                                                                                         1200,\n",
       "                                                                                         1400,\n",
       "                                                                                         1600,\n",
       "                                                                                         1800,\n",
       "                                                                                         2000]}},\n",
       "               cv=4, early_stop=12, generations=5, offspring_size=12,\n",
       "               population_size=24, scoring='accuracy', verbosity=2)"
      ]
     },
     "execution_count": 42,
     "metadata": {},
     "output_type": "execute_result"
    }
   ],
   "source": [
    "from tpot import TPOTClassifier\n",
    "\n",
    "\n",
    "tpot_classifier = TPOTClassifier(generations= 5, population_size= 24, offspring_size= 12,\n",
    "                                 verbosity= 2, early_stop= 12,\n",
    "                                 config_dict={'sklearn.ensemble.RandomForestClassifier': param}, \n",
    "                                 cv = 4, scoring = 'accuracy')\n",
    "tpot_classifier.fit(X_train,y_train)"
   ]
  },
  {
   "cell_type": "code",
   "execution_count": 43,
   "metadata": {},
   "outputs": [
    {
     "name": "stdout",
     "output_type": "stream",
     "text": [
      "0.8636363636363636\n"
     ]
    }
   ],
   "source": [
    "accuracy = tpot_classifier.score(X_test, y_test)\n",
    "print(accuracy)"
   ]
  },
  {
   "cell_type": "markdown",
   "metadata": {},
   "source": [
    "### Optimize hyperparameters of the model using Optuna\n",
    "\n",
    "The hyperparameters of the above algorithm are `n_estimators` and `max_depth` for which we can try different values to see if the model accuracy can be improved. The `objective` function is modified to accept a trial object. This trial has several methods for sampling hyperparameters. We create a study to run the hyperparameter optimization and finally read the best hyperparameters."
   ]
  },
  {
   "cell_type": "code",
   "execution_count": 45,
   "metadata": {},
   "outputs": [
    {
     "name": "stdout",
     "output_type": "stream",
     "text": [
      "Collecting optuna\n",
      "  Downloading optuna-2.9.1-py3-none-any.whl (302 kB)\n",
      "\u001b[K     |████████████████████████████████| 302 kB 966 kB/s eta 0:00:01\n",
      "\u001b[?25hCollecting cmaes>=0.8.2\n",
      "  Downloading cmaes-0.8.2-py3-none-any.whl (15 kB)\n",
      "Requirement already satisfied: scipy!=1.4.0 in /home/jxd/anaconda3/lib/python3.8/site-packages (from optuna) (1.6.2)\n",
      "Requirement already satisfied: numpy in /home/jxd/anaconda3/lib/python3.8/site-packages (from optuna) (1.20.1)\n",
      "Requirement already satisfied: PyYAML in /home/jxd/anaconda3/lib/python3.8/site-packages (from optuna) (5.4.1)\n",
      "Collecting colorlog\n",
      "  Downloading colorlog-5.0.1-py2.py3-none-any.whl (10 kB)\n",
      "Requirement already satisfied: packaging>=20.0 in /home/jxd/anaconda3/lib/python3.8/site-packages (from optuna) (20.9)\n",
      "Requirement already satisfied: sqlalchemy>=1.1.0 in /home/jxd/anaconda3/lib/python3.8/site-packages (from optuna) (1.4.15)\n",
      "Requirement already satisfied: tqdm in /home/jxd/anaconda3/lib/python3.8/site-packages (from optuna) (4.59.0)\n",
      "Collecting alembic\n",
      "  Downloading alembic-1.6.5-py2.py3-none-any.whl (164 kB)\n",
      "\u001b[K     |████████████████████████████████| 164 kB 4.2 MB/s eta 0:00:01\n",
      "\u001b[?25hCollecting cliff\n",
      "  Downloading cliff-3.8.0-py3-none-any.whl (80 kB)\n",
      "\u001b[K     |████████████████████████████████| 80 kB 1.1 MB/s eta 0:00:01\n",
      "\u001b[?25hRequirement already satisfied: pyparsing>=2.0.2 in /home/jxd/anaconda3/lib/python3.8/site-packages (from packaging>=20.0->optuna) (2.4.7)\n",
      "Requirement already satisfied: greenlet!=0.4.17 in /home/jxd/anaconda3/lib/python3.8/site-packages (from sqlalchemy>=1.1.0->optuna) (1.0.0)\n",
      "Collecting python-editor>=0.3\n",
      "  Downloading python_editor-1.0.4-py3-none-any.whl (4.9 kB)\n",
      "Requirement already satisfied: python-dateutil in /home/jxd/anaconda3/lib/python3.8/site-packages (from alembic->optuna) (2.8.1)\n",
      "Collecting Mako\n",
      "  Downloading Mako-1.1.4-py2.py3-none-any.whl (75 kB)\n",
      "\u001b[K     |████████████████████████████████| 75 kB 463 kB/s eta 0:00:011\n",
      "\u001b[?25hCollecting stevedore>=2.0.1\n",
      "  Downloading stevedore-3.3.0-py3-none-any.whl (49 kB)\n",
      "\u001b[K     |████████████████████████████████| 49 kB 677 kB/s eta 0:00:011\n",
      "\u001b[?25hCollecting pbr!=2.1.0,>=2.0.0\n",
      "  Downloading pbr-5.6.0-py2.py3-none-any.whl (111 kB)\n",
      "\u001b[K     |████████████████████████████████| 111 kB 4.9 MB/s eta 0:00:01\n",
      "\u001b[?25hCollecting cmd2>=1.0.0\n",
      "  Downloading cmd2-2.1.2-py3-none-any.whl (141 kB)\n",
      "\u001b[K     |████████████████████████████████| 141 kB 3.0 MB/s eta 0:00:01\n",
      "\u001b[?25hCollecting PrettyTable>=0.7.2\n",
      "  Downloading prettytable-2.1.0-py3-none-any.whl (22 kB)\n",
      "Requirement already satisfied: wcwidth>=0.1.7 in /home/jxd/anaconda3/lib/python3.8/site-packages (from cmd2>=1.0.0->cliff->optuna) (0.2.5)\n",
      "Collecting pyperclip>=1.6\n",
      "  Downloading pyperclip-1.8.2.tar.gz (20 kB)\n",
      "Requirement already satisfied: colorama>=0.3.7 in /home/jxd/anaconda3/lib/python3.8/site-packages (from cmd2>=1.0.0->cliff->optuna) (0.4.4)\n",
      "Requirement already satisfied: attrs>=16.3.0 in /home/jxd/anaconda3/lib/python3.8/site-packages (from cmd2>=1.0.0->cliff->optuna) (20.3.0)\n",
      "Requirement already satisfied: MarkupSafe>=0.9.2 in /home/jxd/anaconda3/lib/python3.8/site-packages (from Mako->alembic->optuna) (1.1.1)\n",
      "Requirement already satisfied: six>=1.5 in /home/jxd/anaconda3/lib/python3.8/site-packages (from python-dateutil->alembic->optuna) (1.15.0)\n",
      "Building wheels for collected packages: pyperclip\n",
      "  Building wheel for pyperclip (setup.py) ... \u001b[?25ldone\n",
      "\u001b[?25h  Created wheel for pyperclip: filename=pyperclip-1.8.2-py3-none-any.whl size=11107 sha256=e967100d4ca82a89db12e38cccbb19b8e2595f06699eed4e0b889e9ffe3f2620\n",
      "  Stored in directory: /home/jxd/.cache/pip/wheels/7f/1a/65/84ff8c386bec21fca6d220ea1f5498a0367883a78dd5ba6122\n",
      "Successfully built pyperclip\n",
      "Installing collected packages: pyperclip, pbr, stevedore, python-editor, PrettyTable, Mako, cmd2, colorlog, cmaes, cliff, alembic, optuna\n",
      "Successfully installed Mako-1.1.4 PrettyTable-2.1.0 alembic-1.6.5 cliff-3.8.0 cmaes-0.8.2 cmd2-2.1.2 colorlog-5.0.1 optuna-2.9.1 pbr-5.6.0 pyperclip-1.8.2 python-editor-1.0.4 stevedore-3.3.0\n"
     ]
    }
   ],
   "source": [
    "#!pip install optuna"
   ]
  },
  {
   "cell_type": "code",
   "execution_count": 46,
   "metadata": {},
   "outputs": [],
   "source": [
    "import optuna\n",
    "import sklearn.svm\n",
    "def objective(trial):\n",
    "\n",
    "    classifier = trial.suggest_categorical('classifier', ['RandomForest', 'SVC'])\n",
    "    \n",
    "    if classifier == 'RandomForest':\n",
    "        n_estimators = trial.suggest_int('n_estimators', 200, 2000,10)\n",
    "        max_depth = int(trial.suggest_float('max_depth', 10, 100, log=True))\n",
    "\n",
    "        clf = sklearn.ensemble.RandomForestClassifier(\n",
    "            n_estimators=n_estimators, max_depth=max_depth)\n",
    "    else:\n",
    "        c = trial.suggest_float('svc_c', 1e-10, 1e10, log=True)\n",
    "        \n",
    "        clf = sklearn.svm.SVC(C=c, gamma='auto')\n",
    "\n",
    "    return sklearn.model_selection.cross_val_score(\n",
    "        clf,X_train,y_train, n_jobs=-1, cv=3).mean()\n"
   ]
  },
  {
   "cell_type": "code",
   "execution_count": 47,
   "metadata": {},
   "outputs": [
    {
     "name": "stderr",
     "output_type": "stream",
     "text": [
      "\u001b[32m[I 2021-08-17 19:07:00,208]\u001b[0m A new study created in memory with name: no-name-f5c812f7-dacb-4efa-9ffa-173af74e1c9e\u001b[0m\n",
      "\u001b[32m[I 2021-08-17 19:07:13,442]\u001b[0m Trial 0 finished with value: 0.640068547744301 and parameters: {'classifier': 'SVC', 'svc_c': 1789.6428308067045}. Best is trial 0 with value: 0.640068547744301.\u001b[0m\n",
      "\u001b[32m[I 2021-08-17 19:07:19,160]\u001b[0m Trial 1 finished with value: 0.7459269886816515 and parameters: {'classifier': 'RandomForest', 'n_estimators': 1010, 'max_depth': 53.388874592209206}. Best is trial 1 with value: 0.7459269886816515.\u001b[0m\n",
      "\u001b[32m[I 2021-08-17 19:07:19,293]\u001b[0m Trial 2 finished with value: 0.640068547744301 and parameters: {'classifier': 'SVC', 'svc_c': 0.26765134681169866}. Best is trial 1 with value: 0.7459269886816515.\u001b[0m\n",
      "\u001b[32m[I 2021-08-17 19:07:27,130]\u001b[0m Trial 3 finished with value: 0.7524390243902439 and parameters: {'classifier': 'RandomForest', 'n_estimators': 1890, 'max_depth': 85.16381971993374}. Best is trial 3 with value: 0.7524390243902439.\u001b[0m\n",
      "\u001b[32m[I 2021-08-17 19:07:31,273]\u001b[0m Trial 4 finished with value: 0.7508130081300813 and parameters: {'classifier': 'RandomForest', 'n_estimators': 1080, 'max_depth': 14.760900574150474}. Best is trial 3 with value: 0.7524390243902439.\u001b[0m\n",
      "\u001b[32m[I 2021-08-17 19:07:38,631]\u001b[0m Trial 5 finished with value: 0.7491869918699187 and parameters: {'classifier': 'RandomForest', 'n_estimators': 1790, 'max_depth': 25.163626624013165}. Best is trial 3 with value: 0.7524390243902439.\u001b[0m\n",
      "\u001b[32m[I 2021-08-17 19:07:38,748]\u001b[0m Trial 6 finished with value: 0.640068547744301 and parameters: {'classifier': 'SVC', 'svc_c': 40.64768977338395}. Best is trial 3 with value: 0.7524390243902439.\u001b[0m\n",
      "\u001b[32m[I 2021-08-17 19:07:44,785]\u001b[0m Trial 7 finished with value: 0.7524390243902439 and parameters: {'classifier': 'RandomForest', 'n_estimators': 1400, 'max_depth': 15.847043040283108}. Best is trial 3 with value: 0.7524390243902439.\u001b[0m\n",
      "\u001b[32m[I 2021-08-17 19:07:44,881]\u001b[0m Trial 8 finished with value: 0.640068547744301 and parameters: {'classifier': 'SVC', 'svc_c': 7.264111909524287e-05}. Best is trial 3 with value: 0.7524390243902439.\u001b[0m\n",
      "\u001b[32m[I 2021-08-17 19:07:46,759]\u001b[0m Trial 9 finished with value: 0.7491710505340348 and parameters: {'classifier': 'RandomForest', 'n_estimators': 420, 'max_depth': 27.782977968606613}. Best is trial 3 with value: 0.7524390243902439.\u001b[0m\n",
      "\u001b[32m[I 2021-08-17 19:07:54,758]\u001b[0m Trial 10 finished with value: 0.7491869918699187 and parameters: {'classifier': 'RandomForest', 'n_estimators': 1990, 'max_depth': 94.84890437893007}. Best is trial 3 with value: 0.7524390243902439.\u001b[0m\n",
      "\u001b[32m[I 2021-08-17 19:08:01,420]\u001b[0m Trial 11 finished with value: 0.7475530049418141 and parameters: {'classifier': 'RandomForest', 'n_estimators': 1450, 'max_depth': 12.40729012482625}. Best is trial 3 with value: 0.7524390243902439.\u001b[0m\n",
      "\u001b[32m[I 2021-08-17 19:08:08,244]\u001b[0m Trial 12 finished with value: 0.7524310537223019 and parameters: {'classifier': 'RandomForest', 'n_estimators': 1540, 'max_depth': 58.83178614195251}. Best is trial 3 with value: 0.7524390243902439.\u001b[0m\n",
      "\u001b[32m[I 2021-08-17 19:08:14,591]\u001b[0m Trial 13 finished with value: 0.7491790212019768 and parameters: {'classifier': 'RandomForest', 'n_estimators': 1480, 'max_depth': 18.594067488202086}. Best is trial 3 with value: 0.7524390243902439.\u001b[0m\n",
      "\u001b[32m[I 2021-08-17 19:08:17,509]\u001b[0m Trial 14 finished with value: 0.7475609756097561 and parameters: {'classifier': 'RandomForest', 'n_estimators': 650, 'max_depth': 43.29641847008772}. Best is trial 3 with value: 0.7524390243902439.\u001b[0m\n",
      "\u001b[32m[I 2021-08-17 19:08:25,358]\u001b[0m Trial 15 finished with value: 0.744293001753547 and parameters: {'classifier': 'RandomForest', 'n_estimators': 1730, 'max_depth': 86.92492582684625}. Best is trial 3 with value: 0.7524390243902439.\u001b[0m\n",
      "\u001b[32m[I 2021-08-17 19:08:31,437]\u001b[0m Trial 16 finished with value: 0.7508050374621393 and parameters: {'classifier': 'RandomForest', 'n_estimators': 1270, 'max_depth': 10.059242255019837}. Best is trial 3 with value: 0.7524390243902439.\u001b[0m\n",
      "\u001b[32m[I 2021-08-17 19:08:35,460]\u001b[0m Trial 17 finished with value: 0.7508130081300813 and parameters: {'classifier': 'RandomForest', 'n_estimators': 840, 'max_depth': 21.248667297409302}. Best is trial 3 with value: 0.7524390243902439.\u001b[0m\n",
      "\u001b[32m[I 2021-08-17 19:08:35,576]\u001b[0m Trial 18 finished with value: 0.640068547744301 and parameters: {'classifier': 'SVC', 'svc_c': 3166055755.266349}. Best is trial 3 with value: 0.7524390243902439.\u001b[0m\n",
      "\u001b[32m[I 2021-08-17 19:08:44,849]\u001b[0m Trial 19 finished with value: 0.7540650406504065 and parameters: {'classifier': 'RandomForest', 'n_estimators': 1990, 'max_depth': 37.23419198779104}. Best is trial 19 with value: 0.7540650406504065.\u001b[0m\n",
      "\u001b[32m[I 2021-08-17 19:08:53,271]\u001b[0m Trial 20 finished with value: 0.7556910569105691 and parameters: {'classifier': 'RandomForest', 'n_estimators': 1950, 'max_depth': 37.610103094163556}. Best is trial 20 with value: 0.7556910569105691.\u001b[0m\n",
      "\u001b[32m[I 2021-08-17 19:09:01,627]\u001b[0m Trial 21 finished with value: 0.7524469950581859 and parameters: {'classifier': 'RandomForest', 'n_estimators': 1940, 'max_depth': 34.51684407616273}. Best is trial 20 with value: 0.7556910569105691.\u001b[0m\n",
      "\u001b[32m[I 2021-08-17 19:09:09,728]\u001b[0m Trial 22 finished with value: 0.7491790212019768 and parameters: {'classifier': 'RandomForest', 'n_estimators': 2000, 'max_depth': 36.846961327772995}. Best is trial 20 with value: 0.7556910569105691.\u001b[0m\n",
      "\u001b[32m[I 2021-08-17 19:09:17,297]\u001b[0m Trial 23 finished with value: 0.7540570699824646 and parameters: {'classifier': 'RandomForest', 'n_estimators': 1650, 'max_depth': 34.51111861971602}. Best is trial 20 with value: 0.7556910569105691.\u001b[0m\n",
      "\u001b[32m[I 2021-08-17 19:09:25,186]\u001b[0m Trial 24 finished with value: 0.7524310537223019 and parameters: {'classifier': 'RandomForest', 'n_estimators': 1670, 'max_depth': 45.806699507102806}. Best is trial 20 with value: 0.7556910569105691.\u001b[0m\n",
      "\u001b[32m[I 2021-08-17 19:09:33,113]\u001b[0m Trial 25 finished with value: 0.7507970667941973 and parameters: {'classifier': 'RandomForest', 'n_estimators': 1660, 'max_depth': 29.56495746232091}. Best is trial 20 with value: 0.7556910569105691.\u001b[0m\n",
      "\u001b[32m[I 2021-08-17 19:09:42,186]\u001b[0m Trial 26 finished with value: 0.7459269886816515 and parameters: {'classifier': 'RandomForest', 'n_estimators': 1840, 'max_depth': 62.36688301817379}. Best is trial 20 with value: 0.7556910569105691.\u001b[0m\n",
      "\u001b[32m[I 2021-08-17 19:09:42,319]\u001b[0m Trial 27 finished with value: 0.640068547744301 and parameters: {'classifier': 'SVC', 'svc_c': 3.2545517188378824e-08}. Best is trial 20 with value: 0.7556910569105691.\u001b[0m\n",
      "\u001b[32m[I 2021-08-17 19:09:49,695]\u001b[0m Trial 28 finished with value: 0.7540570699824646 and parameters: {'classifier': 'RandomForest', 'n_estimators': 1300, 'max_depth': 40.00759686837052}. Best is trial 20 with value: 0.7556910569105691.\u001b[0m\n",
      "\u001b[32m[I 2021-08-17 19:09:49,812]\u001b[0m Trial 29 finished with value: 0.640068547744301 and parameters: {'classifier': 'SVC', 'svc_c': 5474463212.21096}. Best is trial 20 with value: 0.7556910569105691.\u001b[0m\n",
      "\u001b[32m[I 2021-08-17 19:09:56,434]\u001b[0m Trial 30 finished with value: 0.7556910569105691 and parameters: {'classifier': 'RandomForest', 'n_estimators': 1640, 'max_depth': 23.373279996791105}. Best is trial 20 with value: 0.7556910569105691.\u001b[0m\n",
      "\u001b[32m[I 2021-08-17 19:10:01,813]\u001b[0m Trial 31 finished with value: 0.7475450342738722 and parameters: {'classifier': 'RandomForest', 'n_estimators': 1320, 'max_depth': 23.649115083832434}. Best is trial 20 with value: 0.7556910569105691.\u001b[0m\n",
      "\u001b[32m[I 2021-08-17 19:10:08,570]\u001b[0m Trial 32 finished with value: 0.7507970667941973 and parameters: {'classifier': 'RandomForest', 'n_estimators': 1630, 'max_depth': 33.53315500727779}. Best is trial 20 with value: 0.7556910569105691.\u001b[0m\n",
      "\u001b[32m[I 2021-08-17 19:10:13,509]\u001b[0m Trial 33 finished with value: 0.7508050374621393 and parameters: {'classifier': 'RandomForest', 'n_estimators': 1240, 'max_depth': 42.850973935602866}. Best is trial 20 with value: 0.7556910569105691.\u001b[0m\n",
      "\u001b[32m[I 2021-08-17 19:10:20,696]\u001b[0m Trial 34 finished with value: 0.7459190180137095 and parameters: {'classifier': 'RandomForest', 'n_estimators': 1820, 'max_depth': 46.64452382547735}. Best is trial 20 with value: 0.7556910569105691.\u001b[0m\n"
     ]
    },
    {
     "name": "stderr",
     "output_type": "stream",
     "text": [
      "\u001b[32m[I 2021-08-17 19:10:27,096]\u001b[0m Trial 35 finished with value: 0.744285031085605 and parameters: {'classifier': 'RandomForest', 'n_estimators': 1580, 'max_depth': 28.87623671845336}. Best is trial 20 with value: 0.7556910569105691.\u001b[0m\n",
      "\u001b[32m[I 2021-08-17 19:10:34,391]\u001b[0m Trial 36 finished with value: 0.7524390243902439 and parameters: {'classifier': 'RandomForest', 'n_estimators': 1820, 'max_depth': 69.0845533490528}. Best is trial 20 with value: 0.7556910569105691.\u001b[0m\n",
      "\u001b[32m[I 2021-08-17 19:10:34,481]\u001b[0m Trial 37 finished with value: 0.640068547744301 and parameters: {'classifier': 'SVC', 'svc_c': 2.5601478146429303e-10}. Best is trial 20 with value: 0.7556910569105691.\u001b[0m\n",
      "\u001b[32m[I 2021-08-17 19:10:38,647]\u001b[0m Trial 38 finished with value: 0.7540570699824646 and parameters: {'classifier': 'RandomForest', 'n_estimators': 1000, 'max_depth': 39.25600209783765}. Best is trial 20 with value: 0.7556910569105691.\u001b[0m\n",
      "\u001b[32m[I 2021-08-17 19:10:43,070]\u001b[0m Trial 39 finished with value: 0.7475530049418141 and parameters: {'classifier': 'RandomForest', 'n_estimators': 1140, 'max_depth': 50.79213304193419}. Best is trial 20 with value: 0.7556910569105691.\u001b[0m\n",
      "\u001b[32m[I 2021-08-17 19:10:43,187]\u001b[0m Trial 40 finished with value: 0.640068547744301 and parameters: {'classifier': 'SVC', 'svc_c': 75541.44160185922}. Best is trial 20 with value: 0.7556910569105691.\u001b[0m\n",
      "\u001b[32m[I 2021-08-17 19:10:47,036]\u001b[0m Trial 41 finished with value: 0.7540650406504065 and parameters: {'classifier': 'RandomForest', 'n_estimators': 890, 'max_depth': 39.329661525910524}. Best is trial 20 with value: 0.7556910569105691.\u001b[0m\n",
      "\u001b[32m[I 2021-08-17 19:10:50,649]\u001b[0m Trial 42 finished with value: 0.7459349593495935 and parameters: {'classifier': 'RandomForest', 'n_estimators': 880, 'max_depth': 32.467612072603494}. Best is trial 20 with value: 0.7556910569105691.\u001b[0m\n",
      "\u001b[32m[I 2021-08-17 19:10:53,515]\u001b[0m Trial 43 finished with value: 0.7459190180137095 and parameters: {'classifier': 'RandomForest', 'n_estimators': 650, 'max_depth': 39.45658212905271}. Best is trial 20 with value: 0.7556910569105691.\u001b[0m\n",
      "\u001b[32m[I 2021-08-17 19:10:57,508]\u001b[0m Trial 44 finished with value: 0.7491710505340348 and parameters: {'classifier': 'RandomForest', 'n_estimators': 980, 'max_depth': 54.2913775905977}. Best is trial 20 with value: 0.7556910569105691.\u001b[0m\n",
      "\u001b[32m[I 2021-08-17 19:11:00,771]\u001b[0m Trial 45 finished with value: 0.7491790212019768 and parameters: {'classifier': 'RandomForest', 'n_estimators': 780, 'max_depth': 24.990326063026586}. Best is trial 20 with value: 0.7556910569105691.\u001b[0m\n",
      "\u001b[32m[I 2021-08-17 19:11:08,981]\u001b[0m Trial 46 finished with value: 0.7491710505340348 and parameters: {'classifier': 'RandomForest', 'n_estimators': 1900, 'max_depth': 20.436018549177376}. Best is trial 20 with value: 0.7556910569105691.\u001b[0m\n",
      "\u001b[32m[I 2021-08-17 19:11:15,956]\u001b[0m Trial 47 finished with value: 0.7524310537223019 and parameters: {'classifier': 'RandomForest', 'n_estimators': 1740, 'max_depth': 26.683700362277808}. Best is trial 20 with value: 0.7556910569105691.\u001b[0m\n",
      "\u001b[32m[I 2021-08-17 19:11:23,643]\u001b[0m Trial 48 finished with value: 0.7475450342738722 and parameters: {'classifier': 'RandomForest', 'n_estimators': 1900, 'max_depth': 33.09143008523132}. Best is trial 20 with value: 0.7556910569105691.\u001b[0m\n",
      "\u001b[32m[I 2021-08-17 19:11:24,895]\u001b[0m Trial 49 finished with value: 0.7410250278973378 and parameters: {'classifier': 'RandomForest', 'n_estimators': 290, 'max_depth': 39.70925231551239}. Best is trial 20 with value: 0.7556910569105691.\u001b[0m\n",
      "\u001b[32m[I 2021-08-17 19:11:29,363]\u001b[0m Trial 50 finished with value: 0.7491790212019768 and parameters: {'classifier': 'RandomForest', 'n_estimators': 1130, 'max_depth': 67.51495736315161}. Best is trial 20 with value: 0.7556910569105691.\u001b[0m\n",
      "\u001b[32m[I 2021-08-17 19:11:32,995]\u001b[0m Trial 51 finished with value: 0.7524310537223019 and parameters: {'classifier': 'RandomForest', 'n_estimators': 920, 'max_depth': 37.22993727047979}. Best is trial 20 with value: 0.7556910569105691.\u001b[0m\n",
      "\u001b[32m[I 2021-08-17 19:11:35,901]\u001b[0m Trial 52 finished with value: 0.7540411286465806 and parameters: {'classifier': 'RandomForest', 'n_estimators': 700, 'max_depth': 30.345932010058835}. Best is trial 20 with value: 0.7556910569105691.\u001b[0m\n",
      "\u001b[32m[I 2021-08-17 19:11:41,641]\u001b[0m Trial 53 finished with value: 0.7524310537223019 and parameters: {'classifier': 'RandomForest', 'n_estimators': 1440, 'max_depth': 50.9525715302092}. Best is trial 20 with value: 0.7556910569105691.\u001b[0m\n",
      "\u001b[32m[I 2021-08-17 19:11:45,577]\u001b[0m Trial 54 finished with value: 0.7459190180137095 and parameters: {'classifier': 'RandomForest', 'n_estimators': 970, 'max_depth': 16.311578476167078}. Best is trial 20 with value: 0.7556910569105691.\u001b[0m\n",
      "\u001b[32m[I 2021-08-17 19:11:50,900]\u001b[0m Trial 55 finished with value: 0.7507970667941973 and parameters: {'classifier': 'RandomForest', 'n_estimators': 1360, 'max_depth': 43.49374439056461}. Best is trial 20 with value: 0.7556910569105691.\u001b[0m\n",
      "\u001b[32m[I 2021-08-17 19:11:57,966]\u001b[0m Trial 56 finished with value: 0.7556830862426271 and parameters: {'classifier': 'RandomForest', 'n_estimators': 1730, 'max_depth': 23.309189132262304}. Best is trial 20 with value: 0.7556910569105691.\u001b[0m\n",
      "\u001b[32m[I 2021-08-17 19:11:58,064]\u001b[0m Trial 57 finished with value: 0.640068547744301 and parameters: {'classifier': 'SVC', 'svc_c': 9.894892433746665e-05}. Best is trial 20 with value: 0.7556910569105691.\u001b[0m\n",
      "\u001b[32m[I 2021-08-17 19:12:03,884]\u001b[0m Trial 58 finished with value: 0.7508050374621393 and parameters: {'classifier': 'RandomForest', 'n_estimators': 1510, 'max_depth': 18.535558445924263}. Best is trial 20 with value: 0.7556910569105691.\u001b[0m\n",
      "\u001b[32m[I 2021-08-17 19:12:08,296]\u001b[0m Trial 59 finished with value: 0.7426510441575004 and parameters: {'classifier': 'RandomForest', 'n_estimators': 1080, 'max_depth': 22.132589029050266}. Best is trial 20 with value: 0.7556910569105691.\u001b[0m\n",
      "\u001b[32m[I 2021-08-17 19:12:15,582]\u001b[0m Trial 60 finished with value: 0.7507970667941973 and parameters: {'classifier': 'RandomForest', 'n_estimators': 1760, 'max_depth': 27.335693706679823}. Best is trial 20 with value: 0.7556910569105691.\u001b[0m\n",
      "\u001b[32m[I 2021-08-17 19:12:23,757]\u001b[0m Trial 61 finished with value: 0.7508050374621393 and parameters: {'classifier': 'RandomForest', 'n_estimators': 1990, 'max_depth': 38.03095555133116}. Best is trial 20 with value: 0.7556910569105691.\u001b[0m\n",
      "\u001b[32m[I 2021-08-17 19:12:29,980]\u001b[0m Trial 62 finished with value: 0.7508050374621393 and parameters: {'classifier': 'RandomForest', 'n_estimators': 1570, 'max_depth': 35.90866418923809}. Best is trial 20 with value: 0.7556910569105691.\u001b[0m\n",
      "\u001b[32m[I 2021-08-17 19:12:36,842]\u001b[0m Trial 63 finished with value: 0.7524390243902439 and parameters: {'classifier': 'RandomForest', 'n_estimators': 1690, 'max_depth': 30.99857596552232}. Best is trial 20 with value: 0.7556910569105691.\u001b[0m\n",
      "\u001b[32m[I 2021-08-17 19:12:41,634]\u001b[0m Trial 64 finished with value: 0.7540570699824646 and parameters: {'classifier': 'RandomForest', 'n_estimators': 1220, 'max_depth': 42.24475732832843}. Best is trial 20 with value: 0.7556910569105691.\u001b[0m\n",
      "\u001b[32m[I 2021-08-17 19:12:49,158]\u001b[0m Trial 65 finished with value: 0.7540730113183485 and parameters: {'classifier': 'RandomForest', 'n_estimators': 1930, 'max_depth': 24.93247743892318}. Best is trial 20 with value: 0.7556910569105691.\u001b[0m\n",
      "\u001b[32m[I 2021-08-17 19:12:56,488]\u001b[0m Trial 66 finished with value: 0.7507970667941973 and parameters: {'classifier': 'RandomForest', 'n_estimators': 1880, 'max_depth': 22.981599219601225}. Best is trial 20 with value: 0.7556910569105691.\u001b[0m\n",
      "\u001b[32m[I 2021-08-17 19:12:56,604]\u001b[0m Trial 67 finished with value: 0.640068547744301 and parameters: {'classifier': 'SVC', 'svc_c': 528770.6754095939}. Best is trial 20 with value: 0.7556910569105691.\u001b[0m\n",
      "\u001b[32m[I 2021-08-17 19:13:04,758]\u001b[0m Trial 68 finished with value: 0.7556830862426271 and parameters: {'classifier': 'RandomForest', 'n_estimators': 2000, 'max_depth': 18.38362003266314}. Best is trial 20 with value: 0.7556910569105691.\u001b[0m\n",
      "\u001b[32m[I 2021-08-17 19:13:12,869]\u001b[0m Trial 69 finished with value: 0.7508050374621393 and parameters: {'classifier': 'RandomForest', 'n_estimators': 1980, 'max_depth': 19.34893271499584}. Best is trial 20 with value: 0.7556910569105691.\u001b[0m\n"
     ]
    },
    {
     "name": "stderr",
     "output_type": "stream",
     "text": [
      "\u001b[32m[I 2021-08-17 19:13:20,696]\u001b[0m Trial 70 finished with value: 0.7524390243902439 and parameters: {'classifier': 'RandomForest', 'n_estimators': 1930, 'max_depth': 13.710481434971445}. Best is trial 20 with value: 0.7556910569105691.\u001b[0m\n",
      "\u001b[32m[I 2021-08-17 19:13:28,203]\u001b[0m Trial 71 finished with value: 0.7491790212019768 and parameters: {'classifier': 'RandomForest', 'n_estimators': 1860, 'max_depth': 16.640563595595882}. Best is trial 20 with value: 0.7556910569105691.\u001b[0m\n",
      "\u001b[32m[I 2021-08-17 19:13:35,271]\u001b[0m Trial 72 finished with value: 0.7540650406504065 and parameters: {'classifier': 'RandomForest', 'n_estimators': 1780, 'max_depth': 24.89873183399504}. Best is trial 20 with value: 0.7556910569105691.\u001b[0m\n",
      "\u001b[32m[I 2021-08-17 19:13:42,369]\u001b[0m Trial 73 finished with value: 0.7491869918699187 and parameters: {'classifier': 'RandomForest', 'n_estimators': 1790, 'max_depth': 25.68370118269257}. Best is trial 20 with value: 0.7556910569105691.\u001b[0m\n",
      "\u001b[32m[I 2021-08-17 19:13:49,964]\u001b[0m Trial 74 finished with value: 0.7491710505340348 and parameters: {'classifier': 'RandomForest', 'n_estimators': 1950, 'max_depth': 24.341862474931784}. Best is trial 20 with value: 0.7556910569105691.\u001b[0m\n",
      "\u001b[32m[I 2021-08-17 19:13:56,773]\u001b[0m Trial 75 finished with value: 0.7508130081300813 and parameters: {'classifier': 'RandomForest', 'n_estimators': 1720, 'max_depth': 20.994065280522133}. Best is trial 20 with value: 0.7556910569105691.\u001b[0m\n",
      "\u001b[32m[I 2021-08-17 19:14:04,054]\u001b[0m Trial 76 finished with value: 0.7508050374621393 and parameters: {'classifier': 'RandomForest', 'n_estimators': 1800, 'max_depth': 19.144292291950684}. Best is trial 20 with value: 0.7556910569105691.\u001b[0m\n",
      "\u001b[32m[I 2021-08-17 19:14:12,188]\u001b[0m Trial 77 finished with value: 0.7491710505340348 and parameters: {'classifier': 'RandomForest', 'n_estimators': 2000, 'max_depth': 17.442460268585208}. Best is trial 20 with value: 0.7556910569105691.\u001b[0m\n",
      "\u001b[32m[I 2021-08-17 19:14:12,297]\u001b[0m Trial 78 finished with value: 0.640068547744301 and parameters: {'classifier': 'SVC', 'svc_c': 0.003109858845660007}. Best is trial 20 with value: 0.7556910569105691.\u001b[0m\n",
      "\u001b[32m[I 2021-08-17 19:14:19,655]\u001b[0m Trial 79 finished with value: 0.7524390243902439 and parameters: {'classifier': 'RandomForest', 'n_estimators': 1860, 'max_depth': 28.576291513753148}. Best is trial 20 with value: 0.7556910569105691.\u001b[0m\n",
      "\u001b[32m[I 2021-08-17 19:14:26,284]\u001b[0m Trial 80 finished with value: 0.7459110473457676 and parameters: {'classifier': 'RandomForest', 'n_estimators': 1610, 'max_depth': 22.681109770543365}. Best is trial 20 with value: 0.7556910569105691.\u001b[0m\n",
      "\u001b[32m[I 2021-08-17 19:14:33,811]\u001b[0m Trial 81 finished with value: 0.7556910569105691 and parameters: {'classifier': 'RandomForest', 'n_estimators': 1920, 'max_depth': 34.788022398798816}. Best is trial 20 with value: 0.7556910569105691.\u001b[0m\n",
      "\u001b[32m[I 2021-08-17 19:14:41,461]\u001b[0m Trial 82 finished with value: 0.7491869918699187 and parameters: {'classifier': 'RandomForest', 'n_estimators': 1910, 'max_depth': 14.053858186353825}. Best is trial 20 with value: 0.7556910569105691.\u001b[0m\n",
      "\u001b[32m[I 2021-08-17 19:14:49,144]\u001b[0m Trial 83 finished with value: 0.7475530049418141 and parameters: {'classifier': 'RandomForest', 'n_estimators': 1950, 'max_depth': 31.336033951766307}. Best is trial 20 with value: 0.7556910569105691.\u001b[0m\n",
      "\u001b[32m[I 2021-08-17 19:14:56,115]\u001b[0m Trial 84 finished with value: 0.7475450342738722 and parameters: {'classifier': 'RandomForest', 'n_estimators': 1780, 'max_depth': 26.56917004012393}. Best is trial 20 with value: 0.7556910569105691.\u001b[0m\n",
      "\u001b[32m[I 2021-08-17 19:15:03,468]\u001b[0m Trial 85 finished with value: 0.7491790212019768 and parameters: {'classifier': 'RandomForest', 'n_estimators': 1850, 'max_depth': 34.69226287215534}. Best is trial 20 with value: 0.7556910569105691.\u001b[0m\n",
      "\u001b[32m[I 2021-08-17 19:15:10,124]\u001b[0m Trial 86 finished with value: 0.755699027578511 and parameters: {'classifier': 'RandomForest', 'n_estimators': 1700, 'max_depth': 23.970869551493024}. Best is trial 86 with value: 0.755699027578511.\u001b[0m\n",
      "\u001b[32m[I 2021-08-17 19:15:16,698]\u001b[0m Trial 87 finished with value: 0.7508050374621393 and parameters: {'classifier': 'RandomForest', 'n_estimators': 1680, 'max_depth': 20.772744660836345}. Best is trial 86 with value: 0.755699027578511.\u001b[0m\n",
      "\u001b[32m[I 2021-08-17 19:15:24,367]\u001b[0m Trial 88 finished with value: 0.7507970667941973 and parameters: {'classifier': 'RandomForest', 'n_estimators': 1940, 'max_depth': 48.12899060790121}. Best is trial 86 with value: 0.755699027578511.\u001b[0m\n",
      "\u001b[32m[I 2021-08-17 19:15:31,282]\u001b[0m Trial 89 finished with value: 0.7507970667941973 and parameters: {'classifier': 'RandomForest', 'n_estimators': 1760, 'max_depth': 24.56594752654018}. Best is trial 86 with value: 0.755699027578511.\u001b[0m\n",
      "\u001b[32m[I 2021-08-17 19:15:38,857]\u001b[0m Trial 90 finished with value: 0.7508050374621393 and parameters: {'classifier': 'RandomForest', 'n_estimators': 1820, 'max_depth': 28.379040882654603}. Best is trial 86 with value: 0.755699027578511.\u001b[0m\n",
      "\u001b[32m[I 2021-08-17 19:15:40,865]\u001b[0m Trial 91 finished with value: 0.7573091025027897 and parameters: {'classifier': 'RandomForest', 'n_estimators': 490, 'max_depth': 23.532053099455965}. Best is trial 91 with value: 0.7573091025027897.\u001b[0m\n",
      "\u001b[32m[I 2021-08-17 19:15:43,102]\u001b[0m Trial 92 finished with value: 0.7459030766778256 and parameters: {'classifier': 'RandomForest', 'n_estimators': 530, 'max_depth': 21.653520454453325}. Best is trial 91 with value: 0.7573091025027897.\u001b[0m\n",
      "\u001b[32m[I 2021-08-17 19:15:50,435]\u001b[0m Trial 93 finished with value: 0.7524310537223019 and parameters: {'classifier': 'RandomForest', 'n_estimators': 1870, 'max_depth': 23.689771318857005}. Best is trial 91 with value: 0.7573091025027897.\u001b[0m\n",
      "\u001b[32m[I 2021-08-17 19:15:51,894]\u001b[0m Trial 94 finished with value: 0.7459110473457676 and parameters: {'classifier': 'RandomForest', 'n_estimators': 320, 'max_depth': 19.921403408244785}. Best is trial 91 with value: 0.7573091025027897.\u001b[0m\n",
      "\u001b[32m[I 2021-08-17 19:15:52,800]\u001b[0m Trial 95 finished with value: 0.7459190180137095 and parameters: {'classifier': 'RandomForest', 'n_estimators': 200, 'max_depth': 25.842984778551376}. Best is trial 91 with value: 0.7573091025027897.\u001b[0m\n",
      "\u001b[32m[I 2021-08-17 19:15:55,162]\u001b[0m Trial 96 finished with value: 0.7491710505340348 and parameters: {'classifier': 'RandomForest', 'n_estimators': 530, 'max_depth': 15.320535777859673}. Best is trial 91 with value: 0.7573091025027897.\u001b[0m\n",
      "\u001b[32m[I 2021-08-17 19:15:55,252]\u001b[0m Trial 97 finished with value: 0.640068547744301 and parameters: {'classifier': 'SVC', 'svc_c': 1.7097645641302986e-07}. Best is trial 91 with value: 0.7573091025027897.\u001b[0m\n",
      "\u001b[32m[I 2021-08-17 19:16:02,372]\u001b[0m Trial 98 finished with value: 0.7475530049418141 and parameters: {'classifier': 'RandomForest', 'n_estimators': 1730, 'max_depth': 18.02992967669534}. Best is trial 91 with value: 0.7573091025027897.\u001b[0m\n",
      "\u001b[32m[I 2021-08-17 19:16:05,860]\u001b[0m Trial 99 finished with value: 0.7475450342738722 and parameters: {'classifier': 'RandomForest', 'n_estimators': 800, 'max_depth': 30.015661809184444}. Best is trial 91 with value: 0.7573091025027897.\u001b[0m\n"
     ]
    },
    {
     "name": "stdout",
     "output_type": "stream",
     "text": [
      "Accuracy: 0.7573091025027897\n",
      "Best hyperparameters: {'classifier': 'RandomForest', 'n_estimators': 490, 'max_depth': 23.532053099455965}\n"
     ]
    }
   ],
   "source": [
    "study = optuna.create_study(direction='maximize')\n",
    "study.optimize(objective, n_trials=100)\n",
    "\n",
    "trial = study.best_trial\n",
    "\n",
    "print('Accuracy: {}'.format(trial.value))\n",
    "print(\"Best hyperparameters: {}\".format(trial.params))"
   ]
  },
  {
   "cell_type": "code",
   "execution_count": 48,
   "metadata": {},
   "outputs": [
    {
     "data": {
      "text/plain": [
       "FrozenTrial(number=91, values=[0.7573091025027897], datetime_start=datetime.datetime(2021, 8, 17, 19, 15, 38, 858467), datetime_complete=datetime.datetime(2021, 8, 17, 19, 15, 40, 865419), params={'classifier': 'RandomForest', 'n_estimators': 490, 'max_depth': 23.532053099455965}, distributions={'classifier': CategoricalDistribution(choices=('RandomForest', 'SVC')), 'n_estimators': IntUniformDistribution(high=2000, low=200, step=10), 'max_depth': LogUniformDistribution(high=100.0, low=10.0)}, user_attrs={}, system_attrs={}, intermediate_values={}, trial_id=91, state=TrialState.COMPLETE, value=None)"
      ]
     },
     "execution_count": 48,
     "metadata": {},
     "output_type": "execute_result"
    }
   ],
   "source": [
    "trial"
   ]
  },
  {
   "cell_type": "code",
   "execution_count": 49,
   "metadata": {},
   "outputs": [
    {
     "data": {
      "text/plain": [
       "{'classifier': 'RandomForest',\n",
       " 'n_estimators': 490,\n",
       " 'max_depth': 23.532053099455965}"
      ]
     },
     "execution_count": 49,
     "metadata": {},
     "output_type": "execute_result"
    }
   ],
   "source": [
    "study.best_params"
   ]
  },
  {
   "cell_type": "code",
   "execution_count": 55,
   "metadata": {},
   "outputs": [
    {
     "data": {
      "text/plain": [
       "23.532053099455965"
      ]
     },
     "execution_count": 55,
     "metadata": {},
     "output_type": "execute_result"
    }
   ],
   "source": [
    "study.best_params['max_depth']"
   ]
  },
  {
   "cell_type": "code",
   "execution_count": 56,
   "metadata": {},
   "outputs": [
    {
     "data": {
      "text/plain": [
       "RandomForestClassifier(max_depth=23.532053099455965, n_estimators=490)"
      ]
     },
     "execution_count": 56,
     "metadata": {},
     "output_type": "execute_result"
    }
   ],
   "source": [
    "rf=RandomForestClassifier(n_estimators=study.best_params['n_estimators'],\n",
    "                          max_depth=study.best_params['max_depth'])\n",
    "rf.fit(X_train,y_train)"
   ]
  },
  {
   "cell_type": "code",
   "execution_count": 57,
   "metadata": {},
   "outputs": [
    {
     "name": "stdout",
     "output_type": "stream",
     "text": [
      "[[93 14]\n",
      " [15 32]]\n",
      "0.8116883116883117\n",
      "              precision    recall  f1-score   support\n",
      "\n",
      "           0       0.86      0.87      0.87       107\n",
      "           1       0.70      0.68      0.69        47\n",
      "\n",
      "    accuracy                           0.81       154\n",
      "   macro avg       0.78      0.78      0.78       154\n",
      "weighted avg       0.81      0.81      0.81       154\n",
      "\n"
     ]
    }
   ],
   "source": [
    "y_pred=rf.predict(X_test)\n",
    "print(confusion_matrix(y_test,y_pred))\n",
    "print(accuracy_score(y_test,y_pred))\n",
    "print(classification_report(y_test,y_pred))"
   ]
  },
  {
   "cell_type": "code",
   "execution_count": null,
   "metadata": {},
   "outputs": [],
   "source": []
  }
 ],
 "metadata": {
  "kernelspec": {
   "display_name": "Python 3",
   "language": "python",
   "name": "python3"
  },
  "language_info": {
   "codemirror_mode": {
    "name": "ipython",
    "version": 3
   },
   "file_extension": ".py",
   "mimetype": "text/x-python",
   "name": "python",
   "nbconvert_exporter": "python",
   "pygments_lexer": "ipython3",
   "version": "3.8.8"
  }
 },
 "nbformat": 4,
 "nbformat_minor": 4
}
